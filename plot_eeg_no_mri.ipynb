{
 "cells": [
  {
   "cell_type": "code",
   "execution_count": 1,
   "metadata": {},
   "outputs": [],
   "source": [
    "%matplotlib inline"
   ]
  },
  {
   "cell_type": "code",
   "execution_count": 1,
   "metadata": {},
   "outputs": [
    {
     "name": "stdout",
     "output_type": "stream",
     "text": [
      "0 files missing from /Users/ilamiheev/anaconda3/lib/python3.7/site-packages/mne/datasets/_fsaverage/root.txt in /Users/ilamiheev/mne_data/MNE-fsaverage-data\n",
      "0 files missing from /Users/ilamiheev/anaconda3/lib/python3.7/site-packages/mne/datasets/_fsaverage/bem.txt in /Users/ilamiheev/mne_data/MNE-fsaverage-data/fsaverage\n"
     ]
    }
   ],
   "source": [
    "# Authors: Alexandre Gramfort <alexandre.gramfort@inria.fr>\n",
    "#          Joan Massich <mailsik@gmail.com>\n",
    "#\n",
    "# License: BSD Style.\n",
    "\n",
    "import os.path as op\n",
    "\n",
    "import mne\n",
    "from mne.datasets import eegbci\n",
    "from mne.datasets import fetch_fsaverage\n",
    "\n",
    "# Download fsaverage files\n",
    "fs_dir = fetch_fsaverage(verbose=True)\n",
    "subjects_dir = op.dirname(fs_dir)\n",
    "\n",
    "# The files live in:\n",
    "subject = 'fsaverage'\n",
    "#trans = 'fsaverage'  # MNE has a built-in fsaverage transformation\n",
    "trans = op.join(fs_dir, 'bem', 'fsaverage-trans.fif')\n",
    "src = op.join(fs_dir, 'bem', 'fsaverage-ico-5-src.fif')\n",
    "bem = op.join(fs_dir, 'bem', 'fsaverage-5120-5120-5120-bem-sol.fif')"
   ]
  },
  {
   "cell_type": "code",
   "execution_count": 2,
   "metadata": {},
   "outputs": [
    {
     "name": "stdout",
     "output_type": "stream",
     "text": [
      "Extracting EDF parameters from /Users/ilamiheev/Downloads/Iliya_1/335_Sibirev_Math/edf_reals/Sibirev_335_05_rr_f3.5-40_eyesClean_new_n_160_m_242_t_245_eda_0_.edf...\n",
      "EDF file detected\n",
      "Setting channel info structure...\n",
      "Creating raw.info structure...\n",
      "Reading 0 ... 6999  =      0.000 ...    13.998 secs...\n"
     ]
    },
    {
     "name": "stderr",
     "output_type": "stream",
     "text": [
      "<ipython-input-2-3bd4b43d246c>:2: RuntimeWarning: 29 channel names are too long, have been truncated to 15 characters:\n",
      "['EEG Chan 100-CAR', 'EEG Chan 101-CAR', 'EEG Chan 102-CAR', 'EEG Chan 103-CAR', 'EEG Chan 104-CAR', 'EEG Chan 105-CAR', 'EEG Chan 106-CAR', 'EEG Chan 107-CAR', 'EEG Chan 108-CAR', 'EEG Chan 109-CAR', 'EEG Chan 110-CAR', 'EEG Chan 111-CAR', 'EEG Chan 112-CAR', 'EEG Chan 113-CAR', 'EEG Chan 114-CAR', 'EEG Chan 115-CAR', 'EEG Chan 116-CAR', 'EEG Chan 117-CAR', 'EEG Chan 118-CAR', 'EEG Chan 119-CAR', 'EEG Chan 120-CAR', 'EEG Chan 121-CAR', 'EEG Chan 122-CAR', 'EEG Chan 123-CAR', 'EEG Chan 124-CAR', 'EEG Chan 125-CAR', 'EEG Chan 126-CAR', 'EEG Chan 127-CAR', 'EEG Chan 128-CAR']\n",
      "  raw = mne.io.read_raw_edf(raw_fname, preload=True)\n"
     ]
    }
   ],
   "source": [
    "raw_fname = '/Users/ilamiheev/Downloads/Iliya_1/335_Sibirev_Math/edf_reals/Sibirev_335_05_rr_f3.5-40_eyesClean_new_n_160_m_242_t_245_eda_0_.edf'\n",
    "raw = mne.io.read_raw_edf(raw_fname, preload=True)\n",
    "montage = mne.channels.read_montage('GSN-HydroCel-128')"
   ]
  },
  {
   "cell_type": "code",
   "execution_count": 38,
   "metadata": {},
   "outputs": [
    {
     "data": {
      "text/plain": [
       "<Montage | GSN-HydroCel-128 - 131 channels: FidNz, FidT9, FidT10 ...>"
      ]
     },
     "execution_count": 38,
     "metadata": {},
     "output_type": "execute_result"
    }
   ],
   "source": [
    "montage"
   ]
  },
  {
   "cell_type": "code",
   "execution_count": 1,
   "metadata": {},
   "outputs": [
    {
     "ename": "NameError",
     "evalue": "name 'raw' is not defined",
     "output_type": "error",
     "traceback": [
      "\u001b[0;31m---------------------------------------------------------------------------\u001b[0m",
      "\u001b[0;31mNameError\u001b[0m                                 Traceback (most recent call last)",
      "\u001b[0;32m<ipython-input-1-0617dfab25f7>\u001b[0m in \u001b[0;36m<module>\u001b[0;34m\u001b[0m\n\u001b[1;32m      2\u001b[0m     (ch_name,\n\u001b[1;32m      3\u001b[0m      ch_name.rstrip('-').replace('Chan ', 'E').replace('CAR', '').replace('EEG', ''))\n\u001b[0;32m----> 4\u001b[0;31m     for ch_name in raw.ch_names)\n\u001b[0m\u001b[1;32m      5\u001b[0m \u001b[0mraw\u001b[0m\u001b[0;34m.\u001b[0m\u001b[0mrename_channels\u001b[0m\u001b[0;34m(\u001b[0m\u001b[0mnew_names\u001b[0m\u001b[0;34m)\u001b[0m\u001b[0;34m\u001b[0m\u001b[0;34m\u001b[0m\u001b[0m\n",
      "\u001b[0;31mNameError\u001b[0m: name 'raw' is not defined"
     ]
    }
   ],
   "source": [
    "new_names = dict(\n",
    "    (ch_name,\n",
    "     ch_name.rstrip('-').replace('Chan ', 'E').replace('CAR', '').replace('EEG', ''))\n",
    "    for ch_name in raw.ch_names)\n",
    "raw.rename_channels(new_names)"
   ]
  },
  {
   "cell_type": "code",
   "execution_count": 2,
   "metadata": {},
   "outputs": [
    {
     "ename": "NameError",
     "evalue": "name 'epochs' is not defined",
     "output_type": "error",
     "traceback": [
      "\u001b[0;31m---------------------------------------------------------------------------\u001b[0m",
      "\u001b[0;31mNameError\u001b[0m                                 Traceback (most recent call last)",
      "\u001b[0;32m<ipython-input-2-b26ff9b14205>\u001b[0m in \u001b[0;36m<module>\u001b[0;34m\u001b[0m\n\u001b[0;32m----> 1\u001b[0;31m \u001b[0mepochs\u001b[0m\u001b[0;34m\u001b[0m\u001b[0;34m\u001b[0m\u001b[0m\n\u001b[0m",
      "\u001b[0;31mNameError\u001b[0m: name 'epochs' is not defined"
     ]
    }
   ],
   "source": [
    "epochs"
   ]
  },
  {
   "cell_type": "code",
   "execution_count": 33,
   "metadata": {},
   "outputs": [
    {
     "name": "stderr",
     "output_type": "stream",
     "text": [
      "<ipython-input-33-983d1cadfdab>:2: RuntimeWarning: An average reference projection was already added. The data has been left untouched.\n",
      "  raw.set_eeg_reference(projection=True)\n"
     ]
    },
    {
     "data": {
      "text/plain": [
       "<RawEDF  |  Sibirev_335_05_rr_f3.5-40_eyesClean_new_n_160_m_242_t_245_eda_0_.edf, n_channels x n_times : 129 x 7000 (14.0 sec), ~7.2 MB, data loaded>"
      ]
     },
     "execution_count": 33,
     "metadata": {},
     "output_type": "execute_result"
    }
   ],
   "source": [
    "raw.set_montage(montage)\n",
    "raw.set_eeg_reference(projection=True)"
   ]
  },
  {
   "cell_type": "code",
   "execution_count": 34,
   "metadata": {},
   "outputs": [
    {
     "data": {
      "text/plain": [
       "<RawEDF  |  Sibirev_335_05_rr_f3.5-40_eyesClean_new_n_160_m_242_t_245_eda_0_.edf, n_channels x n_times : 129 x 7000 (14.0 sec), ~7.2 MB, data loaded>"
      ]
     },
     "execution_count": 34,
     "metadata": {},
     "output_type": "execute_result"
    }
   ],
   "source": [
    "raw.set_montage(montage)"
   ]
  },
  {
   "cell_type": "code",
   "execution_count": 35,
   "metadata": {},
   "outputs": [
    {
     "data": {
      "text/plain": [
       "<Info | 17 non-empty fields\n",
       "    bads : list | 0 items\n",
       "    ch_names : list |  E1,  E2,  E3,  E4,  E5,  E6,  E7,  E8,  E9, ...\n",
       "    chs : list | 129 items (EEG: 128, STIM: 1)\n",
       "    comps : list | 0 items\n",
       "    custom_ref_applied : bool | False\n",
       "    dev_head_t : Transform | 3 items\n",
       "    dig : list | 131 items (3 Cardinal, 128 EEG)\n",
       "    events : list | 0 items\n",
       "    highpass : float | 0.0 Hz\n",
       "    hpi_meas : list | 0 items\n",
       "    hpi_results : list | 0 items\n",
       "    lowpass : float | 250.0 Hz\n",
       "    meas_date : tuple | 2019-04-08 19:59:02 GMT\n",
       "    nchan : int | 129\n",
       "    proc_history : list | 0 items\n",
       "    projs : list | Average EEG reference: off\n",
       "    sfreq : float | 500.0 Hz\n",
       "    acq_pars : NoneType\n",
       "    acq_stim : NoneType\n",
       "    ctf_head_t : NoneType\n",
       "    description : NoneType\n",
       "    dev_ctf_t : NoneType\n",
       "    experimenter : NoneType\n",
       "    file_id : NoneType\n",
       "    gantry_angle : NoneType\n",
       "    hpi_subsystem : NoneType\n",
       "    kit_system_id : NoneType\n",
       "    line_freq : NoneType\n",
       "    meas_id : NoneType\n",
       "    proj_id : NoneType\n",
       "    proj_name : NoneType\n",
       "    subject_info : NoneType\n",
       "    xplotter_layout : NoneType\n",
       ">"
      ]
     },
     "execution_count": 35,
     "metadata": {},
     "output_type": "execute_result"
    }
   ],
   "source": [
    "raw.info"
   ]
  },
  {
   "cell_type": "code",
   "execution_count": 56,
   "metadata": {},
   "outputs": [
    {
     "name": "stdout",
     "output_type": "stream",
     "text": [
      "Reading /Users/ilamiheev/mne_data/MNE-fsaverage-data/fsaverage/bem/fsaverage-ico-5-src.fif...\n",
      "Using outer_skin.surf for head surface.\n"
     ]
    },
    {
     "data": {
      "text/plain": [
       "<mayavi.core.scene.Scene at 0x1ce1efc410>"
      ]
     },
     "execution_count": 56,
     "metadata": {},
     "output_type": "execute_result"
    }
   ],
   "source": [
    "%gui qt \n",
    "mne.viz.plot_alignment(\n",
    "    raw.info, src=src, eeg=['original', 'projected'], trans=trans,\n",
    "    show_axes=True, mri_fiducials=True, dig='fiducials')"
   ]
  },
  {
   "cell_type": "markdown",
   "metadata": {},
   "source": [
    "##### fig = mne.viz.plot_alignment(raw.info, trans, subject='sample', dig=False,\n",
    "                     eeg=['original', 'projected'], meg=[],\n",
    "                     coord_frame='head', subjects_dir=subjects_dir)"
   ]
  },
  {
   "cell_type": "code",
   "execution_count": 53,
   "metadata": {},
   "outputs": [
    {
     "data": {
      "text/plain": [
       "<RawEDF  |  Sibirev_335_05_rr_f3.5-40_eyesClean_new_n_160_m_242_t_245_eda_0_.edf, n_channels x n_times : 129 x 7000 (14.0 sec), ~7.2 MB, data loaded>"
      ]
     },
     "execution_count": 53,
     "metadata": {},
     "output_type": "execute_result"
    }
   ],
   "source": [
    "raw.set_montage(montage)"
   ]
  },
  {
   "cell_type": "code",
   "execution_count": 54,
   "metadata": {},
   "outputs": [
    {
     "data": {
      "text/plain": [
       "<Info | 17 non-empty fields\n",
       "    bads : list | 0 items\n",
       "    ch_names : list |  E1,  E2,  E3,  E4,  E5,  E6,  E7,  E8,  E9, ...\n",
       "    chs : list | 129 items (EEG: 128, STIM: 1)\n",
       "    comps : list | 0 items\n",
       "    custom_ref_applied : bool | False\n",
       "    dev_head_t : Transform | 3 items\n",
       "    dig : list | 131 items (3 Cardinal, 128 EEG)\n",
       "    events : list | 0 items\n",
       "    highpass : float | 0.0 Hz\n",
       "    hpi_meas : list | 0 items\n",
       "    hpi_results : list | 0 items\n",
       "    lowpass : float | 250.0 Hz\n",
       "    meas_date : tuple | 2019-04-08 19:59:02 GMT\n",
       "    nchan : int | 129\n",
       "    proc_history : list | 0 items\n",
       "    projs : list | Average EEG reference: off\n",
       "    sfreq : float | 500.0 Hz\n",
       "    acq_pars : NoneType\n",
       "    acq_stim : NoneType\n",
       "    ctf_head_t : NoneType\n",
       "    description : NoneType\n",
       "    dev_ctf_t : NoneType\n",
       "    experimenter : NoneType\n",
       "    file_id : NoneType\n",
       "    gantry_angle : NoneType\n",
       "    hpi_subsystem : NoneType\n",
       "    kit_system_id : NoneType\n",
       "    line_freq : NoneType\n",
       "    meas_id : NoneType\n",
       "    proj_id : NoneType\n",
       "    proj_name : NoneType\n",
       "    subject_info : NoneType\n",
       "    xplotter_layout : NoneType\n",
       ">"
      ]
     },
     "execution_count": 54,
     "metadata": {},
     "output_type": "execute_result"
    }
   ],
   "source": [
    "raw.info"
   ]
  },
  {
   "cell_type": "code",
   "execution_count": 42,
   "metadata": {},
   "outputs": [
    {
     "name": "stdout",
     "output_type": "stream",
     "text": [
      "Source space          : /Users/ilamiheev/mne_data/MNE-fsaverage-data/fsaverage/bem/fsaverage-ico-5-src.fif\n",
      "MRI -> head transform : /Users/ilamiheev/mne_data/MNE-fsaverage-data/fsaverage/bem/fsaverage-trans.fif\n",
      "Measurement data      : instance of Info\n",
      "Conductor model   : /Users/ilamiheev/mne_data/MNE-fsaverage-data/fsaverage/bem/fsaverage-5120-5120-5120-bem-sol.fif\n",
      "Accurate field computations\n",
      "Do computations in head coordinates\n",
      "Free source orientations\n",
      "\n",
      "Reading /Users/ilamiheev/mne_data/MNE-fsaverage-data/fsaverage/bem/fsaverage-ico-5-src.fif...\n",
      "Read 2 source spaces a total of 20484 active source locations\n",
      "\n",
      "Coordinate transformation: MRI (surface RAS) -> head\n",
      "     0.999994  0.003552  0.000202      -1.76 mm\n",
      "    -0.003558  0.998389  0.056626      31.09 mm\n",
      "    -0.000001 -0.056626  0.998395      39.60 mm\n",
      "     0.000000  0.000000  0.000000       1.00\n",
      "\n",
      "Read 128 EEG channels from info\n",
      "Head coordinate coil definitions created.\n",
      "Source spaces are now in head coordinates.\n",
      "\n",
      "Setting up the BEM model using /Users/ilamiheev/mne_data/MNE-fsaverage-data/fsaverage/bem/fsaverage-5120-5120-5120-bem-sol.fif...\n",
      "\n",
      "Loading surfaces...\n",
      "Three-layer model surfaces loaded.\n",
      "\n",
      "Loading the solution matrix...\n",
      "\n",
      "Loaded linear_collocation BEM solution from /Users/ilamiheev/mne_data/MNE-fsaverage-data/fsaverage/bem/fsaverage-5120-5120-5120-bem-sol.fif\n",
      "Employing the head->MRI coordinate transform with the BEM model.\n",
      "BEM model fsaverage-5120-5120-5120-bem-sol.fif is now set up\n",
      "\n",
      "Source spaces are in head coordinates.\n",
      "Checking that the sources are inside the bounding surface and at least    5.0 mm away (will take a few...)\n",
      "Thank you for waiting.\n",
      "\n",
      "Computing EEG at 20484 source locations (free orientations)...\n",
      "\n",
      "Finished.\n",
      "<Forward | MEG channels: 0 | EEG channels: 128 | Source space: Surface with 20484 vertices | Source orientation: Free>\n",
      "    128 out of 128 channels remain after picking\n",
      "Adding average EEG reference projection.\n",
      "Using control points [0.14773847 0.22939989 1.        ]\n"
     ]
    },
    {
     "data": {
      "text/plain": [
       "<surfer.viz.Brain at 0xd635346d8>"
      ]
     },
     "execution_count": 42,
     "metadata": {},
     "output_type": "execute_result"
    }
   ],
   "source": [
    "fwd = mne.make_forward_solution(raw.info, trans=trans, src=src,\n",
    "                                bem=bem, eeg=True, mindist=5.0, n_jobs=1)\n",
    "print(fwd)\n",
    "\n",
    "# for illustration purposes use fwd to compute the sensitivity map\n",
    "eeg_map = mne.sensitivity_map(fwd, ch_type='eeg', mode='fixed')\n",
    "eeg_map.plot(time_label='EEG sensitivity', subjects_dir=subjects_dir,\n",
    "             clim=dict(lims=[5, 50, 100]))"
   ]
  },
  {
   "cell_type": "code",
   "execution_count": 49,
   "metadata": {},
   "outputs": [
    {
     "data": {
      "image/png": "[encoded data removed]",
      "text/plain": [
       "<Figure size 432x432 with 1 Axes>"
      ]
     },
     "metadata": {},
     "output_type": "display_data"
    },
    {
     "data": {
      "image/png": "[encoded data removed]",
      "text/plain": [
       "<Figure size 432x432 with 1 Axes>"
      ]
     },
     "execution_count": 49,
     "metadata": {},
     "output_type": "execute_result"
    }
   ],
   "source": []
  },
  {
   "cell_type": "code",
   "execution_count": null,
   "metadata": {},
   "outputs": [],
   "source": [
    "raw_fname, = eegbci.load_data(subject=1, runs=[6])\n",
    "raw = mne.io.read_raw_edf(raw_fname, preload=True)\n",
    "\n",
    "# Clean channel names to be able to use a standard 1005 montage\n",
    "new_names = dict(\n",
    "    (ch_name,\n",
    "     ch_name.rstrip('.').upper().replace('Z', 'z').replace('FP', 'Fp'))\n",
    "    for ch_name in raw.ch_names)\n",
    "raw.rename_channels(new_names)\n",
    "\n",
    "# Read and set the EEG electrode locations\n",
    "montage = mne.channels.make_standard_montage('standard_1005')\n",
    "\n",
    "raw.set_montage(montage)\n",
    "raw.set_eeg_reference(projection=True)  # needed for inverse modeling\n",
    "\n",
    "# Check that the locations of EEG electrodes is correct with respect to MRI\n",
    "mne.viz.plot_alignment(\n",
    "    raw.info, src=src, eeg=['original', 'projected'], trans=trans,\n",
    "    show_axes=True, mri_fiducials=True, dig='fiducials')"
   ]
  },
  {
   "cell_type": "code",
   "execution_count": null,
   "metadata": {},
   "outputs": [],
   "source": [
    "fwd = mne.make_forward_solution(raw.info, trans=trans, src=src,\n",
    "                                bem=bem, eeg=True, mindist=5.0, n_jobs=1)\n",
    "print(fwd)\n",
    "\n",
    "# for illustration purposes use fwd to compute the sensitivity map\n",
    "eeg_map = mne.sensitivity_map(fwd, ch_type='eeg', mode='fixed')\n",
    "eeg_map.plot(time_label='EEG sensitivity', subjects_dir=subjects_dir,\n",
    "             clim=dict(lims=[5, 50, 100]))"
   ]
  }
 ],
 "metadata": {
  "kernelspec": {
   "display_name": "Python 3",
   "language": "python",
   "name": "python3"
  },
  "language_info": {
   "codemirror_mode": {
    "name": "ipython",
    "version": 3
   },
   "file_extension": ".py",
   "mimetype": "text/x-python",
   "name": "python",
   "nbconvert_exporter": "python",
   "pygments_lexer": "ipython3",
   "version": "3.7.6"
  }
 },
 "nbformat": 4,
 "nbformat_minor": 1
}
