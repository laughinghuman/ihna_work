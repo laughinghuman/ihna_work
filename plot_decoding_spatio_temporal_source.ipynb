{
 "cells": [
  {
   "cell_type": "code",
   "execution_count": 2,
   "metadata": {},
   "outputs": [],
   "source": [
    "%matplotlib inline"
   ]
  },
  {
   "cell_type": "markdown",
   "metadata": {},
   "source": [
    "\n",
    "\n",
    "# Decoding source space data\n",
    "\n",
    "\n",
    "Decoding to MEG data in source space on the left cortical surface. Here\n",
    "univariate feature selection is employed for speed purposes to confine the\n",
    "classification to a small number of potentially relevant features. The\n",
    "classifier then is trained to selected features of epochs in source space.\n"
   ]
  },
  {
   "cell_type": "code",
   "execution_count": 8,
   "metadata": {},
   "outputs": [
    {
     "name": "stdout",
     "output_type": "stream",
     "text": [
      "Automatically created module for IPython interactive environment\n"
     ]
    }
   ],
   "source": [
    "# Author: Denis A. Engemann <denis.engemann@gmail.com>\n",
    "#         Alexandre Gramfort <alexandre.gramfort@inria.fr>\n",
    "#         Jean-Remi King <jeanremi.king@gmail.com>\n",
    "#         Eric Larson <larson.eric.d@gmail.com>\n",
    "#\n",
    "# License: BSD (3-clause)\n",
    "\n",
    "import numpy as np\n",
    "import matplotlib.pyplot as plt\n",
    "\n",
    "from sklearn.pipeline import make_pipeline\n",
    "from sklearn.preprocessing import StandardScaler\n",
    "from sklearn.feature_selection import SelectKBest, f_classif\n",
    "from sklearn.linear_model import LogisticRegression\n",
    "\n",
    "import mne\n",
    "from mne.minimum_norm import apply_inverse_epochs, read_inverse_operator\n",
    "from mne.decoding import (cross_val_multiscore, LinearModel, SlidingEstimator,\n",
    "                          get_coef)\n",
    "\n",
    "print(__doc__)\n",
    "\n",
    "data_path = mne.datasets.sample.data_path()\n",
    "fname_fwd = data_path + 'MEG/sample/sample_audvis-meg-oct-6-fwd.fif'\n",
    "fname_evoked = data_path + '/MEG/sample/sample_audvis-ave.fif'\n",
    "subjects_dir = data_path + '/subjects'"
   ]
  },
  {
   "cell_type": "markdown",
   "metadata": {},
   "source": [
    "Set parameters\n",
    "\n"
   ]
  },
  {
   "cell_type": "code",
   "execution_count": 9,
   "metadata": {},
   "outputs": [
    {
     "name": "stdout",
     "output_type": "stream",
     "text": [
      "Opening raw data file /Users/ilamiheev/mne_data/MNE-sample-data/MEG/sample/sample_audvis_filt-0-40_raw.fif...\n",
      "    Read a total of 4 projection items:\n",
      "        PCA-v1 (1 x 102)  idle\n",
      "        PCA-v2 (1 x 102)  idle\n",
      "        PCA-v3 (1 x 102)  idle\n",
      "        Average EEG reference (1 x 60)  idle\n",
      "    Range : 6450 ... 48149 =     42.956 ...   320.665 secs\n",
      "Ready.\n",
      "Current compensation grade : 0\n",
      "Reading 0 ... 41699  =      0.000 ...   277.709 secs...\n",
      "Filtering raw data in 1 contiguous segment\n",
      "Setting up low-pass filter at 10 Hz\n",
      "\n",
      "FIR filter parameters\n",
      "---------------------\n",
      "Designing a one-pass, zero-phase, non-causal lowpass filter:\n",
      "- Windowed time-domain design (firwin) method\n",
      "- Hamming window with 0.0194 passband ripple and 53 dB stopband attenuation\n",
      "- Upper passband edge: 10.00 Hz\n",
      "- Upper transition bandwidth: 2.50 Hz (-6 dB cutoff frequency: 11.25 Hz)\n",
      "- Filter length: 199 samples (1.325 sec)\n",
      "\n",
      "143 matching events found\n",
      "Applying baseline correction (mode: mean)\n",
      "Not setting metadata\n",
      "Created an SSP operator (subspace dimension = 3)\n",
      "4 projection items activated\n",
      "Loading data for 143 events and 151 original time points ...\n",
      "    Rejecting  epoch based on EOG : ['EOG 061']\n",
      "    Rejecting  epoch based on EOG : ['EOG 061']\n",
      "    Rejecting  epoch based on EOG : ['EOG 061']\n",
      "    Rejecting  epoch based on EOG : ['EOG 061']\n",
      "    Rejecting  epoch based on EOG : ['EOG 061']\n",
      "    Rejecting  epoch based on EOG : ['EOG 061']\n",
      "    Rejecting  epoch based on EOG : ['EOG 061']\n",
      "    Rejecting  epoch based on EOG : ['EOG 061']\n",
      "    Rejecting  epoch based on EOG : ['EOG 061']\n",
      "    Rejecting  epoch based on EOG : ['EOG 061']\n",
      "    Rejecting  epoch based on EOG : ['EOG 061']\n",
      "    Rejecting  epoch based on EOG : ['EOG 061']\n",
      "    Rejecting  epoch based on EOG : ['EOG 061']\n",
      "    Rejecting  epoch based on EOG : ['EOG 061']\n",
      "    Rejecting  epoch based on EOG : ['EOG 061']\n",
      "    Rejecting  epoch based on EOG : ['EOG 061']\n",
      "    Rejecting  epoch based on EOG : ['EOG 061']\n",
      "    Rejecting  epoch based on EOG : ['EOG 061']\n",
      "    Rejecting  epoch based on EOG : ['EOG 061']\n",
      "    Rejecting  epoch based on EOG : ['EOG 061']\n",
      "    Rejecting  epoch based on EOG : ['EOG 061']\n",
      "    Rejecting  epoch based on EOG : ['EOG 061']\n",
      "    Rejecting  epoch based on EOG : ['EOG 061']\n",
      "    Rejecting  epoch based on EOG : ['EOG 061']\n",
      "    Rejecting  epoch based on EOG : ['EOG 061']\n",
      "    Rejecting  epoch based on EOG : ['EOG 061']\n",
      "    Rejecting  epoch based on EOG : ['EOG 061']\n",
      "    Rejecting  epoch based on EOG : ['EOG 061']\n",
      "28 bad epochs dropped\n"
     ]
    }
   ],
   "source": [
    "raw_fname = data_path + '/MEG/sample/sample_audvis_filt-0-40_raw.fif'\n",
    "event_fname = data_path + '/MEG/sample/sample_audvis_filt-0-40_raw-eve.fif'\n",
    "fname_cov = data_path + '/MEG/sample/sample_audvis-cov.fif'\n",
    "fname_inv = data_path + '/MEG/sample/sample_audvis-meg-oct-6-meg-inv.fif'\n",
    "\n",
    "tmin, tmax = -0.2, 0.8\n",
    "event_id = dict(aud_r=2, vis_r=4)  # load contra-lateral conditions\n",
    "\n",
    "# Setup for reading the raw data\n",
    "raw = mne.io.read_raw_fif(raw_fname, preload=True)\n",
    "raw.filter(None, 10., fir_design='firwin')\n",
    "events = mne.read_events(event_fname)\n",
    "\n",
    "# Set up pick list: MEG - bad channels (modify to your needs)\n",
    "raw.info['bads'] += ['MEG 2443']  # mark bads\n",
    "picks = mne.pick_types(raw.info, meg=True, eeg=False, stim=True, eog=True,\n",
    "                       exclude='bads')\n",
    "\n",
    "# Read epochs\n",
    "epochs = mne.Epochs(raw, events, event_id, tmin, tmax, proj=True,\n",
    "                    picks=picks, baseline=(None, 0), preload=True,\n",
    "                    reject=dict(grad=4000e-13, eog=150e-6),\n",
    "                    decim=5)  # decimate to save memory and increase speed"
   ]
  },
  {
   "cell_type": "markdown",
   "metadata": {},
   "source": [
    "Compute inverse solution\n",
    "\n"
   ]
  },
  {
   "cell_type": "code",
   "execution_count": 10,
   "metadata": {},
   "outputs": [
    {
     "name": "stdout",
     "output_type": "stream",
     "text": [
      "    366 x 366 full covariance (kind = 1) found.\n",
      "    Read a total of 4 projection items:\n",
      "        PCA-v1 (1 x 102) active\n",
      "        PCA-v2 (1 x 102) active\n",
      "        PCA-v3 (1 x 102) active\n",
      "        Average EEG reference (1 x 60) active\n",
      "Reading inverse operator decomposition from /Users/ilamiheev/mne_data/MNE-sample-data/MEG/sample/sample_audvis-meg-oct-6-meg-inv.fif...\n",
      "    Reading inverse operator info...\n",
      "    [done]\n",
      "    Reading inverse operator decomposition...\n",
      "    [done]\n",
      "    305 x 305 full covariance (kind = 1) found.\n",
      "    Read a total of 4 projection items:\n",
      "        PCA-v1 (1 x 102) active\n",
      "        PCA-v2 (1 x 102) active\n",
      "        PCA-v3 (1 x 102) active\n",
      "        Average EEG reference (1 x 60) active\n",
      "    Noise covariance matrix read.\n",
      "    22494 x 22494 diagonal covariance (kind = 2) found.\n",
      "    Source covariance matrix read.\n",
      "    22494 x 22494 diagonal covariance (kind = 6) found.\n",
      "    Orientation priors read.\n",
      "    22494 x 22494 diagonal covariance (kind = 5) found.\n",
      "    Depth priors read.\n",
      "    Did not find the desired covariance matrix (kind = 3)\n",
      "    Reading a source space...\n",
      "    Computing patch statistics...\n",
      "    Patch information added...\n",
      "    Distance information added...\n",
      "    [done]\n",
      "    Reading a source space...\n",
      "    Computing patch statistics...\n",
      "    Patch information added...\n",
      "    Distance information added...\n",
      "    [done]\n",
      "    2 source spaces read\n",
      "    Read a total of 4 projection items:\n",
      "        PCA-v1 (1 x 102) active\n",
      "        PCA-v2 (1 x 102) active\n",
      "        PCA-v3 (1 x 102) active\n",
      "        Average EEG reference (1 x 60) active\n",
      "    Source spaces transformed to the inverse solution coordinate frame\n"
     ]
    }
   ],
   "source": [
    "snr = 3.0\n",
    "noise_cov = mne.read_cov(fname_cov)\n",
    "inverse_operator = read_inverse_operator(fname_inv)\n",
    "\n",
    "stcs = apply_inverse_epochs(epochs, inverse_operator,\n",
    "                            lambda2=1.0 / snr ** 2, verbose=False,\n",
    "                            method=\"dSPM\", pick_ori=\"normal\")"
   ]
  },
  {
   "cell_type": "markdown",
   "metadata": {},
   "source": [
    "Decoding in sensor space using a logistic regression\n",
    "\n"
   ]
  },
  {
   "cell_type": "code",
   "execution_count": 12,
   "metadata": {},
   "outputs": [
    {
     "name": "stdout",
     "output_type": "stream",
     "text": [
      "[........................................] 100.00% Fitting SlidingEstimator |  \n",
      "[........................................] 100.00% Fitting SlidingEstimator |  \n",
      "[........................................] 100.00% Fitting SlidingEstimator |  \n",
      "[........................................] 100.00% Fitting SlidingEstimator |  \n",
      "[........................................] 100.00% Fitting SlidingEstimator |  \n"
     ]
    },
    {
     "data": {
      "text/plain": [
       "<matplotlib.legend.Legend at 0x1c224bf208>"
      ]
     },
     "execution_count": 12,
     "metadata": {},
     "output_type": "execute_result"
    },
    {
     "data": {
      "image/png": "[encoded data removed]",
      "text/plain": [
       "<Figure size 432x288 with 1 Axes>"
      ]
     },
     "metadata": {
      "needs_background": "light"
     },
     "output_type": "display_data"
    }
   ],
   "source": [
    "# Retrieve source space data into an array\n",
    "X = np.array([stc.lh_data for stc in stcs])  # only keep left hemisphere\n",
    "y = epochs.events[:, 2]\n",
    "\n",
    "# prepare a series of classifier applied at each time sample\n",
    "clf = make_pipeline(StandardScaler(),  # z-score normalization\n",
    "                    SelectKBest(f_classif, k=500),  # select features for speed\n",
    "                    LinearModel(LogisticRegression(C=1, solver='liblinear')))\n",
    "time_decod = SlidingEstimator(clf, scoring='roc_auc')\n",
    "\n",
    "# Run cross-validated decoding analyses:\n",
    "scores = cross_val_multiscore(time_decod, X, y, cv=5, n_jobs=1)\n",
    "\n",
    "# Plot average decoding scores of 5 splits\n",
    "fig, ax = plt.subplots(1)\n",
    "ax.plot(epochs.times, scores.mean(0), label='score')\n",
    "ax.axhline(.5, color='k', linestyle='--', label='chance')\n",
    "ax.axvline(0, color='k')\n",
    "plt.legend()"
   ]
  },
  {
   "cell_type": "code",
   "execution_count": 45,
   "metadata": {},
   "outputs": [
    {
     "data": {
      "text/plain": [
       "<matplotlib.legend.Legend at 0x1c1c657d30>"
      ]
     },
     "execution_count": 45,
     "metadata": {},
     "output_type": "execute_result"
    },
    {
     "data": {
      "image/png": "[encoded data removed]",
      "text/plain": [
       "<Figure size 1800x720 with 1 Axes>"
      ]
     },
     "metadata": {
      "needs_background": "light"
     },
     "output_type": "display_data"
    }
   ],
   "source": [
    "fig, ax = plt.subplots(1,figsize=(25,10) )\n",
    "#ax.plot((1,2,3,4,5), (0.55,0.65,0.73,0.76,0.83),'o', label='score')\n",
    "ax.axhline(0.5, color='k', linestyle='--', label='chance')\n",
    "ax.errorbar((1,2,3,4,5), (0.55,0.65,0.73,0.76,0.83), yerr=(0.06,0.09,0.024,0.055,0.08),fmt='o',label='score' )\n",
    "plt.xticks([1,2,3,4,5])\n",
    "plt.yticks([0,0.25,0.5,0.75,1])\n",
    "plt.legend(loc='upper left')\n"
   ]
  },
  {
   "cell_type": "markdown",
   "metadata": {},
   "source": [
    "To investigate weights, we need to retrieve the patterns of a fitted model\n",
    "\n"
   ]
  },
  {
   "cell_type": "code",
   "execution_count": 42,
   "metadata": {},
   "outputs": [
    {
     "name": "stdout",
     "output_type": "stream",
     "text": [
      "[........................................] 100.00% Fitting SlidingEstimator |  \n",
      "Using control points [ 3.50724321  4.37721471 15.59502304]\n"
     ]
    }
   ],
   "source": [
    "# The fitting needs not be cross validated because the weights are based on\n",
    "# the training sets\n",
    "time_decod.fit(X, y)\n",
    "\n",
    "# Retrieve patterns after inversing the z-score normalization step:\n",
    "patterns = get_coef(time_decod, 'patterns_', inverse_transform=True)\n",
    "\n",
    "stc = stcs[0]  # for convenience, lookup parameters from first stc\n",
    "vertices = [stc.lh_vertno, np.array([], int)]  # empty array for right hemi\n",
    "stc_feat = mne.SourceEstimate(np.abs(patterns), vertices=vertices,\n",
    "                              tmin=stc.tmin, tstep=stc.tstep, subject='sample')\n",
    "\n",
    "brain = stc_feat.plot(views=['lat'], transparent=True, time_label= None, initial_time=0.7, time_unit='s',\n",
    "                      subjects_dir=subjects_dir)"
   ]
  },
  {
   "cell_type": "code",
   "execution_count": null,
   "metadata": {},
   "outputs": [],
   "source": []
  }
 ],
 "metadata": {
  "kernelspec": {
   "display_name": "Python 3",
   "language": "python",
   "name": "python3"
  },
  "language_info": {
   "codemirror_mode": {
    "name": "ipython",
    "version": 3
   },
   "file_extension": ".py",
   "mimetype": "text/x-python",
   "name": "python",
   "nbconvert_exporter": "python",
   "pygments_lexer": "ipython3",
   "version": "3.7.3"
  }
 },
 "nbformat": 4,
 "nbformat_minor": 1
}
